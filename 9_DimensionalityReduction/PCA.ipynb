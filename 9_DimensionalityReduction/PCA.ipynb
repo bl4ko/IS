{
 "cells": [
  {
   "cell_type": "code",
   "execution_count": 1,
   "metadata": {},
   "outputs": [],
   "source": [
    "import numpy as np\n",
    "import matplotlib.pyplot as plt\n",
    "import pandas as p"
   ]
  },
  {
   "attachments": {},
   "cell_type": "markdown",
   "metadata": {},
   "source": [
    "# Principal Component Analysis (PCA)\n",
    "\n",
    "Most of the time, the data we are working with is not in a form that is suitable for machine learning algorithms. For example, a dataset may have a large number of features (columns) which may make it difficult to visualize. In such cases, it is a good idea to reduce the dimensionality of the data, i.e. reduce the number of features. This is where PCA comes in.\n",
    "\n",
    "Reduce the dimensions of a d-dimensional space to k dimensions, where k < d. The new k-dimensional space is a subspace of the original d-dimensional space.\n",
    "\n",
    "Learn about the relationsihp between X and Y values. Find the list of principal axes."
   ]
  }
 ],
 "metadata": {
  "kernelspec": {
   "display_name": "venv",
   "language": "python",
   "name": "python3"
  },
  "language_info": {
   "codemirror_mode": {
    "name": "ipython",
    "version": 3
   },
   "file_extension": ".py",
   "mimetype": "text/x-python",
   "name": "python",
   "nbconvert_exporter": "python",
   "pygments_lexer": "ipython3",
   "version": "3.10.9 (main, Dec 15 2022, 17:11:09) [Clang 14.0.0 (clang-1400.0.29.202)]"
  },
  "orig_nbformat": 4,
  "vscode": {
   "interpreter": {
    "hash": "4eb4c12fa1609752104d9388b2ce0ed54a404f0e7364c7bcf49ffa5d2d1d99e0"
   }
  }
 },
 "nbformat": 4,
 "nbformat_minor": 2
}
