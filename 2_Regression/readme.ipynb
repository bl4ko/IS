{
 "cells": [
  {
   "attachments": {},
   "cell_type": "markdown",
   "metadata": {},
   "source": [
    "# Regression\n",
    "\n",
    "Regression models (both linear and non-linear) are used for predicting a real value, like a salary for\n",
    "example. If your independent variable is time, then you are forecasting future values, otherwise your model\n",
    "is predicting present but unknown values. Regression technique vary from Linear Regression to SVR and Random\n",
    "\n",
    "Some examples: \n",
    "1. Simple Linear Regression\n",
    "2. Multiple Linear Regression\n",
    "3. Polynomial Regression\n",
    "4. Support Vector for Regression (SVR)\n",
    "5. Decision Tree Regression\n",
    "6. Random Forest regression"
   ]
  },
  {
   "attachments": {},
   "cell_type": "markdown",
   "metadata": {},
   "source": [
    "## Evaluating Regression Models Performance\n",
    "\n",
    "### R-Squared \n",
    "\n",
    "- $R^2$ - Goodness of fit (greater is better)\n",
    "\n",
    "![r-squared](./r-squared.png)\n",
    "\n",
    "- Problem: Adding more independent variables will always increase $R^2$ (even if they are not relevant)\n",
    "- Solution: Adjusted $R^2$ (penalizes for adding more independent variables)\n",
    "\n",
    "![adjusted-r-squared](./adjusted-r-squared.png)\n",
    "\n",
    "### Adjusted R-Square\n",
    "\n",
    "$$ Adj R^2 = 1 - \\frac{(1-R^2)(n-1)}{n-k-1} $$\n",
    "k - number of independent variables \n",
    "n - sample size"
   ]
  },
  {
   "attachments": {},
   "cell_type": "markdown",
   "metadata": {},
   "source": [
    "## Regression Model Selection in Python\n",
    "\n",
    "There are several metrics that can be used to evaluate the performance of a regression model. Some commonly used metrics include:\n",
    "\n",
    "1. Mean Absolute Error (MAE) - This measures the average magnitude of the errors in a set of predictions, without considering their direction. It's the sum of the absolute differences between the predicted values and the actual values, divided by the number of predictions.\n",
    "\n",
    "2. Mean Squared Error (MSE) - This measures the average of the squares of the errors. It's the sum of the squares of the differences between the predicted values and the actual values, divided by the number of predictions. MSE is more sensitive to outliers than MAE.\n",
    "\n",
    "3. Root Mean Squared Error (RMSE) - This is the square root of the MSE. It's used to measure the difference between the predicted values and the actual values in the same units as the target variable.\n",
    "\n",
    "4. R-squared - This is a statistical measure of how well the regression model fits the data. It ranges from 0 to 1, with a higher value indicating a better fit.\n",
    "\n",
    "5. Adjusted R-squared - This is a modified version of R-squared that adjusts for the number of predictors in the model. It can be used to compare the fit of different regression models.\n",
    "\n",
    "6. Mean Absolute Percentage Error (MAPE) - This measures the average magnitude of the errors as a percentage of the actual values. It's the sum of the absolute differences between the predicted values and the actual values, divided by the sum of the actual values, and multiplied by 100."
   ]
  }
 ],
 "metadata": {
  "kernelspec": {
   "display_name": "venv",
   "language": "python",
   "name": "python3"
  },
  "language_info": {
   "name": "python",
   "version": "3.10.9 (main, Dec 15 2022, 17:11:09) [Clang 14.0.0 (clang-1400.0.29.202)]"
  },
  "orig_nbformat": 4,
  "vscode": {
   "interpreter": {
    "hash": "4eb4c12fa1609752104d9388b2ce0ed54a404f0e7364c7bcf49ffa5d2d1d99e0"
   }
  }
 },
 "nbformat": 4,
 "nbformat_minor": 2
}
