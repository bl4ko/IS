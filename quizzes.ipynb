{
 "cells": [
  {
   "attachments": {},
   "cell_type": "markdown",
   "metadata": {},
   "source": [
    "# Nature Inspired Computing"
   ]
  },
  {
   "attachments": {},
   "cell_type": "markdown",
   "metadata": {},
   "source": [
    "1. The success of genetic algorithms depends on the choice of evolutionary model. One of frequently used evolutionary models, **tournament selection**, uses tournaments of groups of agents to select candidates for reproduction. This method uses two parameters, the tournament size `t` and the selection probability `p`. Which of the below statements are true:\n",
    "    - [x] We typically conduct several tournaments and their winners take part in the reproduction.\n",
    "    - [ ] With an increasing selection probability we incrase chances of less successful canddiates.\n",
    "    - [ ] With an increasing tournament size we are approaching a random sampling of candidates.\n",
    "    - [x] With a decreasing tournament size we are approaching a random sampling of candidates."
   ]
  },
  {
   "attachments": {},
   "cell_type": "markdown",
   "metadata": {},
   "source": [
    "2. We applied a genetic algorithm to solve a problem. The current generation is composed of 5 individuals and is described in the table below:\n",
    "    | Individual | Fitness value |\n",
    "    | - | -  |\n",
    "    | 2 | 43 |\n",
    "    | 1 | 26 |\n",
    "    | 3 | 16 |\n",
    "    | 5 | 10 |\n",
    "    | 4 | 5  |\n",
    "\n",
    "    How many times will the individual 1  be sampled, if we are to select `N=10` individuals for recombination using the **stochastic universal sampling**. The individuals are ordered descendigly by fitness value and the random generator returned the value 0.2.\n",
    "    - F = 26 + 43 + 16 + 5 + 10 = 100\n",
    "    - N = 10\n",
    "    - P = F/N = 10\n",
    "    - Start = 0.2\n",
    "    - Pointers = [ 0.2, 10.2, 20.2, 30.2, 40.2, 50.2, 60.2, 70.2, 80.2, 90.2 ]\n",
    "    - Only 50.2 and 60.2 in interval [43, 43+26] -> two times"
   ]
  },
  {
   "attachments": {},
   "cell_type": "markdown",
   "metadata": {},
   "source": [
    "3. Which statements are true about genetic algorithms? (select one or more):\n",
    "   - [ ] genetic algorithms require a detailed description of how t oget a solution for the problem to be solved\n",
    "   - [ ] genetic algorithms systematically search the entire search space\n",
    "   - [x] genetic algorithms require an appropriate representation of individuals\n",
    "   - [ ] in each iteration of a genetic algorithm, the current population deterministically generates the next population\n",
    "   - [ ] if two successive generations are identical then the genetic algorithm has found the optimal solution\n",
    "   - [x] in general, there is no guarantee how good the solution found by a genetic algorithm will be\n",
    "   - [ ] a genetic algorithm will always find the optimal solution given enough time\n",
    "   - [x] genetic algorithms require a function to measure the quality of represented solutions"
   ]
  },
  {
   "attachments": {},
   "cell_type": "markdown",
   "metadata": {},
   "source": [
    "# Machine Learning\n",
    "\n",
    "Try to estimate $f(X)$ so we can get the most accurate $Y$ to the actual result\n",
    "$$Y = f(X) + \\epsilon$$"
   ]
  },
  {
   "attachments": {},
   "cell_type": "markdown",
   "metadata": {},
   "source": [
    "1. Select correct statements about bias-variance.\n",
    "    - [ ] For decision tree models, the bias is realively high, but variance is low\n",
    "        - decision tree models have **low bias** because they are able to capture complex and non-linear relationships in the data, by creating multiple decision rules based on the input features. A decision tree is able to recursively split the data into smaller and smaller subsets, which allows it to learn more patterns in the data. This is the main beenfit of using decision trees, they can adapt to more complex problems\n",
    "        - **high variance**: they are prone to overfitting. A decision tree can be grown to fit the noise in the data as well as the underlying pattern\n",
    "    - [x] for kNN classifier, the variance is generally decreasing with increasing `k`\n",
    "    - [x] for kNN classifier the bias is generally increasing with increasing `k`\n",
    "    - [ ] for kNN classifier the bias is generally decreasing with increasing `k`\n",
    "    - [ ] for linear regression models, the bias is relatively low, but the variance is high.\n",
    "    - [ ] for kNN classifier, the bias-variance trade-off  does not apply as we can select optimal k.\n",
    "    - [x] for linear regression models, the bias is relatively high, but the vairance is low"
   ]
  },
  {
   "attachments": {},
   "cell_type": "markdown",
   "metadata": {},
   "source": [
    "2. We trained a binary classifier using a dataset consisting of 1000 examples (900 from the class \"A\" and 100 from the class \"B\"). We used an independent testing set to estimate the quality of our model and achieved 88% classification accuracy. What can we conclude about the quality of the trained model based only on the available information?\n",
    "    - [x] the model is useless, as it is worse than the majority classifier\n",
    "    - [ ] we cannost say anything about the quality of the model\n",
    "    - [ ] the model is useful because it is much better than a random guess\n",
    "    - [ ] the model is useful if it is comprehensible\n",
    "    - [ ] the model is useful as its accurcay is in accordance with the class distribution in our training set"
   ]
  },
  {
   "attachments": {},
   "cell_type": "markdown",
   "metadata": {},
   "source": [
    "3. Which statements about Bagging (Bootstrap Aggregating) are correct?\n",
    "- [ ] Bagging is prone to overfitting\n",
    "- [ ] The main idea is to apply different algorithms to the same data\n",
    "- [x] Bagging improves the performance of algrithms with high variance\n",
    "- [x] The main idea is to apply a single algorithm to different sample of the original data"
   ]
  },
  {
   "attachments": {},
   "cell_type": "markdown",
   "metadata": {},
   "source": [
    "4. A classifier was trained using a leraning set that contains 200 examples: 20 from the class C1, 76 from the class C2,\n",
    "   37 from the class C3, and 67 from the class C4. The classifier was tested on an independent set of examples. The results\n",
    "   are summarized in the following confusion matrix:\n",
    "\n",
    "    | Observed\\Predicted | C1 | C2 | C3 | C4 |\n",
    "    | - | - | - | - | - |\n",
    "        | C1 | 14 | 3 | 4 | 4 |\n",
    "        | C2 | 1 | 13 | 0 | 2 |\n",
    "        | C3 | 5 | 0 | 16 | 15 |\n",
    "        | C4 | 16 | 8 | 2 | 47 |\n",
    "\n",
    "    Which of the below statements are true?\n",
    "    - [ ] The obtained classification accuracy of the majority classifier is 0.107.\n",
    "        - 76/200 = 0.38\n",
    "    - [x] The average Brier scored of the model cannot be calculted from the given confusion matrix\n",
    "        - \n",
    "    - [ ] The obtained classification of the majority classifier is 0.4533\n",
    "    - [x] The obtained classification accuracy of the model is 0.6\n",
    "        - (14+13+16+47)/(14+13+16+47+11+3+36+26) = 0.6\n",
    "    - [ ] The obtained average Brier score of the model is 0.82\n",
    "    - [ ] The obtained average Brieer score of the model is 1.2456\n",
    "    - [ ] The obtained classification accuracy of the model is 0.9\n",
    "    - [ ] The obtained classification accuracy of the majority classifier is 0.24\n"
   ]
  },
  {
   "attachments": {},
   "cell_type": "markdown",
   "metadata": {},
   "source": [
    "5. Given is a data set consisting of 1000 examples (600 from the positive class and 400 from the negative class). What happens\n",
    "   if we use a k-nearest neighbors model by setting the parameter k to the number of training examples?\n",
    "    - [x] this model is equivalent to majority classifier\n",
    "        - k = 1000 -> all examples are considered (all will go to class with positive examples)\n",
    "    - [x] the sensitivity of that model is 1\n",
    "        - sensitivty = TP/P = 600/600 = 1\n",
    "    - [ ] the classification accuracy of that model is 1\n",
    "        - classification accuracy = (TP+TN) / (TP + TN + FP + FN) = 600 / 1000 = 0.6\n",
    "    - [ ] the specificity of that model is 1\n",
    "      - specificity = TN/N = 0/400 = 0\n",
    "    - [ ] the classification accuracy of that model is 0"
   ]
  },
  {
   "attachments": {},
   "cell_type": "markdown",
   "metadata": {},
   "source": [
    "# NLP"
   ]
  },
  {
   "attachments": {},
   "cell_type": "markdown",
   "metadata": {},
   "source": [
    "1. What is the main reason we stem words in a corpus?\n",
    "- [ ] to reduce the possibility of typos in corpus\n",
    "- [ ] to simplify the distance calculation between words in the corpus\n",
    "- [x] to enhance the semantic information carried by different words derived from the same steam\n",
    "- [ ] the procedure is necessary to convert the data into a relational form"
   ]
  },
  {
   "attachments": {},
   "cell_type": "markdown",
   "metadata": {},
   "source": [
    "2. What does inverted file index contain?\n",
    "- [ ] the distances between individual terms in a corpus\n",
    "- [x] for each term in a corpus, the number of documents containing that term\n",
    "- [x] the positions of each term within the individual documents in a corpus\n",
    "- [ ] the inverse distances between individual documents in a corpus\n",
    "- [x] the frequencies of each term in a corpus"
   ]
  },
  {
   "attachments": {},
   "cell_type": "markdown",
   "metadata": {},
   "source": [
    "3. The nodes in the graph below represent web pages and the edges represent links between the pages. The numbers within the circles are current PageRank scores of nodes.\n",
    "     [quiz-nlp1](./images/quiz-nlp1.png)\n",
    "    Assume that the dumping factor is 0.85. Which statement is correct after one iteration of PageRank algorithm?\n",
    "    - [x] page E has a higher rank than page A\n",
    "        - $\\pi(e)=(1-0.85)+0.85\\cdot \\frac{0.2}{3} + 0.85 \\cdot \\frac{0.2}{1}=\\frac{113}{300}$\n",
    "        - $\\pi(a)=(1-0.85)+0.85\\cdot\\frac{0.2}{3} = \\frac{283}{1500}$\n",
    "    - [ ] page A has a higher rank than page E\n",
    "    - [ ] pages A and E have the same rank"
   ]
  },
  {
   "attachments": {},
   "cell_type": "markdown",
   "metadata": {},
   "source": [
    "# Reinforcement Learning"
   ]
  },
  {
   "attachments": {},
   "cell_type": "markdown",
   "metadata": {},
   "source": [
    "1. Define the components of reinforcement learning\n",
    "    - `state value` - determines the desirability of a paritcular situation\n",
    "    - `reward` - determines the feedback for the agent when it performs a particular action\n",
    "    - `policy` - determines which action should be performed in a particular situation\n",
    "    - `environment model` - enables the agent to consider the consequences of actions without the actual execution"
   ]
  }
 ],
 "metadata": {
  "kernelspec": {
   "display_name": "venv",
   "language": "python",
   "name": "python3"
  },
  "language_info": {
   "name": "python",
   "version": "3.10.9 (main, Dec 15 2022, 17:11:09) [Clang 14.0.0 (clang-1400.0.29.202)]"
  },
  "orig_nbformat": 4,
  "vscode": {
   "interpreter": {
    "hash": "4eb4c12fa1609752104d9388b2ce0ed54a404f0e7364c7bcf49ffa5d2d1d99e0"
   }
  }
 },
 "nbformat": 4,
 "nbformat_minor": 2
}
